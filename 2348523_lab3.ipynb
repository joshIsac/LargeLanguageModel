{
  "nbformat": 4,
  "nbformat_minor": 0,
  "metadata": {
    "colab": {
      "provenance": [],
      "authorship_tag": "ABX9TyN1ZzVHAxCvjdZLkGI5hcCn",
      "include_colab_link": true
    },
    "kernelspec": {
      "name": "python3",
      "display_name": "Python 3"
    },
    "language_info": {
      "name": "python"
    }
  },
  "cells": [
    {
      "cell_type": "markdown",
      "metadata": {
        "id": "view-in-github",
        "colab_type": "text"
      },
      "source": [
        "<a href=\"https://colab.research.google.com/github/joshIsac/LargeLanguageModel/blob/main/2348523_lab3.ipynb\" target=\"_parent\"><img src=\"https://colab.research.google.com/assets/colab-badge.svg\" alt=\"Open In Colab\"/></a>"
      ]
    },
    {
      "cell_type": "code",
      "source": [
        "!pip install langchain\n",
        "!pip install langchain_groq"
      ],
      "metadata": {
        "colab": {
          "base_uri": "https://localhost:8080/"
        },
        "id": "nwxJ-SPXP1is",
        "outputId": "bc0984e5-7eb1-47a3-ac65-3448dc6f2747"
      },
      "execution_count": 10,
      "outputs": [
        {
          "output_type": "stream",
          "name": "stdout",
          "text": [
            "Collecting langchain\n",
            "  Downloading langchain-0.2.7-py3-none-any.whl (983 kB)\n",
            "\u001b[2K     \u001b[90m━━━━━━━━━━━━━━━━━━━━━━━━━━━━━━━━━━━━━━━━\u001b[0m \u001b[32m983.6/983.6 kB\u001b[0m \u001b[31m4.8 MB/s\u001b[0m eta \u001b[36m0:00:00\u001b[0m\n",
            "\u001b[?25hRequirement already satisfied: PyYAML>=5.3 in /usr/local/lib/python3.10/dist-packages (from langchain) (6.0.1)\n",
            "Requirement already satisfied: SQLAlchemy<3,>=1.4 in /usr/local/lib/python3.10/dist-packages (from langchain) (2.0.31)\n",
            "Requirement already satisfied: aiohttp<4.0.0,>=3.8.3 in /usr/local/lib/python3.10/dist-packages (from langchain) (3.9.5)\n",
            "Requirement already satisfied: async-timeout<5.0.0,>=4.0.0 in /usr/local/lib/python3.10/dist-packages (from langchain) (4.0.3)\n",
            "Collecting langchain-core<0.3.0,>=0.2.12 (from langchain)\n",
            "  Downloading langchain_core-0.2.18-py3-none-any.whl (366 kB)\n",
            "\u001b[2K     \u001b[90m━━━━━━━━━━━━━━━━━━━━━━━━━━━━━━━━━━━━━━━━\u001b[0m \u001b[32m366.3/366.3 kB\u001b[0m \u001b[31m28.0 MB/s\u001b[0m eta \u001b[36m0:00:00\u001b[0m\n",
            "\u001b[?25hCollecting langchain-text-splitters<0.3.0,>=0.2.0 (from langchain)\n",
            "  Downloading langchain_text_splitters-0.2.2-py3-none-any.whl (25 kB)\n",
            "Collecting langsmith<0.2.0,>=0.1.17 (from langchain)\n",
            "  Downloading langsmith-0.1.85-py3-none-any.whl (127 kB)\n",
            "\u001b[2K     \u001b[90m━━━━━━━━━━━━━━━━━━━━━━━━━━━━━━━━━━━━━━━━\u001b[0m \u001b[32m127.9/127.9 kB\u001b[0m \u001b[31m9.1 MB/s\u001b[0m eta \u001b[36m0:00:00\u001b[0m\n",
            "\u001b[?25hRequirement already satisfied: numpy<2,>=1 in /usr/local/lib/python3.10/dist-packages (from langchain) (1.25.2)\n",
            "Requirement already satisfied: pydantic<3,>=1 in /usr/local/lib/python3.10/dist-packages (from langchain) (2.8.2)\n",
            "Requirement already satisfied: requests<3,>=2 in /usr/local/lib/python3.10/dist-packages (from langchain) (2.31.0)\n",
            "Requirement already satisfied: tenacity!=8.4.0,<9.0.0,>=8.1.0 in /usr/local/lib/python3.10/dist-packages (from langchain) (8.5.0)\n",
            "Requirement already satisfied: aiosignal>=1.1.2 in /usr/local/lib/python3.10/dist-packages (from aiohttp<4.0.0,>=3.8.3->langchain) (1.3.1)\n",
            "Requirement already satisfied: attrs>=17.3.0 in /usr/local/lib/python3.10/dist-packages (from aiohttp<4.0.0,>=3.8.3->langchain) (23.2.0)\n",
            "Requirement already satisfied: frozenlist>=1.1.1 in /usr/local/lib/python3.10/dist-packages (from aiohttp<4.0.0,>=3.8.3->langchain) (1.4.1)\n",
            "Requirement already satisfied: multidict<7.0,>=4.5 in /usr/local/lib/python3.10/dist-packages (from aiohttp<4.0.0,>=3.8.3->langchain) (6.0.5)\n",
            "Requirement already satisfied: yarl<2.0,>=1.0 in /usr/local/lib/python3.10/dist-packages (from aiohttp<4.0.0,>=3.8.3->langchain) (1.9.4)\n",
            "Collecting jsonpatch<2.0,>=1.33 (from langchain-core<0.3.0,>=0.2.12->langchain)\n",
            "  Downloading jsonpatch-1.33-py2.py3-none-any.whl (12 kB)\n",
            "Requirement already satisfied: packaging<25,>=23.2 in /usr/local/lib/python3.10/dist-packages (from langchain-core<0.3.0,>=0.2.12->langchain) (24.1)\n",
            "Collecting orjson<4.0.0,>=3.9.14 (from langsmith<0.2.0,>=0.1.17->langchain)\n",
            "  Downloading orjson-3.10.6-cp310-cp310-manylinux_2_17_x86_64.manylinux2014_x86_64.whl (141 kB)\n",
            "\u001b[2K     \u001b[90m━━━━━━━━━━━━━━━━━━━━━━━━━━━━━━━━━━━━━━━━\u001b[0m \u001b[32m141.1/141.1 kB\u001b[0m \u001b[31m15.0 MB/s\u001b[0m eta \u001b[36m0:00:00\u001b[0m\n",
            "\u001b[?25hRequirement already satisfied: annotated-types>=0.4.0 in /usr/local/lib/python3.10/dist-packages (from pydantic<3,>=1->langchain) (0.7.0)\n",
            "Requirement already satisfied: pydantic-core==2.20.1 in /usr/local/lib/python3.10/dist-packages (from pydantic<3,>=1->langchain) (2.20.1)\n",
            "Requirement already satisfied: typing-extensions>=4.6.1 in /usr/local/lib/python3.10/dist-packages (from pydantic<3,>=1->langchain) (4.12.2)\n",
            "Requirement already satisfied: charset-normalizer<4,>=2 in /usr/local/lib/python3.10/dist-packages (from requests<3,>=2->langchain) (3.3.2)\n",
            "Requirement already satisfied: idna<4,>=2.5 in /usr/local/lib/python3.10/dist-packages (from requests<3,>=2->langchain) (3.7)\n",
            "Requirement already satisfied: urllib3<3,>=1.21.1 in /usr/local/lib/python3.10/dist-packages (from requests<3,>=2->langchain) (2.0.7)\n",
            "Requirement already satisfied: certifi>=2017.4.17 in /usr/local/lib/python3.10/dist-packages (from requests<3,>=2->langchain) (2024.7.4)\n",
            "Requirement already satisfied: greenlet!=0.4.17 in /usr/local/lib/python3.10/dist-packages (from SQLAlchemy<3,>=1.4->langchain) (3.0.3)\n",
            "Collecting jsonpointer>=1.9 (from jsonpatch<2.0,>=1.33->langchain-core<0.3.0,>=0.2.12->langchain)\n",
            "  Downloading jsonpointer-3.0.0-py2.py3-none-any.whl (7.6 kB)\n",
            "Installing collected packages: orjson, jsonpointer, jsonpatch, langsmith, langchain-core, langchain-text-splitters, langchain\n",
            "Successfully installed jsonpatch-1.33 jsonpointer-3.0.0 langchain-0.2.7 langchain-core-0.2.18 langchain-text-splitters-0.2.2 langsmith-0.1.85 orjson-3.10.6\n",
            "Collecting langchain_groq\n",
            "  Downloading langchain_groq-0.1.6-py3-none-any.whl (14 kB)\n",
            "Collecting groq<1,>=0.4.1 (from langchain_groq)\n",
            "  Downloading groq-0.9.0-py3-none-any.whl (103 kB)\n",
            "\u001b[2K     \u001b[90m━━━━━━━━━━━━━━━━━━━━━━━━━━━━━━━━━━━━━━━━\u001b[0m \u001b[32m103.5/103.5 kB\u001b[0m \u001b[31m1.2 MB/s\u001b[0m eta \u001b[36m0:00:00\u001b[0m\n",
            "\u001b[?25hRequirement already satisfied: langchain-core<0.3,>=0.2.2 in /usr/local/lib/python3.10/dist-packages (from langchain_groq) (0.2.18)\n",
            "Requirement already satisfied: anyio<5,>=3.5.0 in /usr/local/lib/python3.10/dist-packages (from groq<1,>=0.4.1->langchain_groq) (3.7.1)\n",
            "Requirement already satisfied: distro<2,>=1.7.0 in /usr/lib/python3/dist-packages (from groq<1,>=0.4.1->langchain_groq) (1.7.0)\n",
            "Collecting httpx<1,>=0.23.0 (from groq<1,>=0.4.1->langchain_groq)\n",
            "  Downloading httpx-0.27.0-py3-none-any.whl (75 kB)\n",
            "\u001b[2K     \u001b[90m━━━━━━━━━━━━━━━━━━━━━━━━━━━━━━━━━━━━━━━━\u001b[0m \u001b[32m75.6/75.6 kB\u001b[0m \u001b[31m6.1 MB/s\u001b[0m eta \u001b[36m0:00:00\u001b[0m\n",
            "\u001b[?25hRequirement already satisfied: pydantic<3,>=1.9.0 in /usr/local/lib/python3.10/dist-packages (from groq<1,>=0.4.1->langchain_groq) (2.8.2)\n",
            "Requirement already satisfied: sniffio in /usr/local/lib/python3.10/dist-packages (from groq<1,>=0.4.1->langchain_groq) (1.3.1)\n",
            "Requirement already satisfied: typing-extensions<5,>=4.7 in /usr/local/lib/python3.10/dist-packages (from groq<1,>=0.4.1->langchain_groq) (4.12.2)\n",
            "Requirement already satisfied: PyYAML>=5.3 in /usr/local/lib/python3.10/dist-packages (from langchain-core<0.3,>=0.2.2->langchain_groq) (6.0.1)\n",
            "Requirement already satisfied: jsonpatch<2.0,>=1.33 in /usr/local/lib/python3.10/dist-packages (from langchain-core<0.3,>=0.2.2->langchain_groq) (1.33)\n",
            "Requirement already satisfied: langsmith<0.2.0,>=0.1.75 in /usr/local/lib/python3.10/dist-packages (from langchain-core<0.3,>=0.2.2->langchain_groq) (0.1.85)\n",
            "Requirement already satisfied: packaging<25,>=23.2 in /usr/local/lib/python3.10/dist-packages (from langchain-core<0.3,>=0.2.2->langchain_groq) (24.1)\n",
            "Requirement already satisfied: tenacity!=8.4.0,<9.0.0,>=8.1.0 in /usr/local/lib/python3.10/dist-packages (from langchain-core<0.3,>=0.2.2->langchain_groq) (8.5.0)\n",
            "Requirement already satisfied: idna>=2.8 in /usr/local/lib/python3.10/dist-packages (from anyio<5,>=3.5.0->groq<1,>=0.4.1->langchain_groq) (3.7)\n",
            "Requirement already satisfied: exceptiongroup in /usr/local/lib/python3.10/dist-packages (from anyio<5,>=3.5.0->groq<1,>=0.4.1->langchain_groq) (1.2.1)\n",
            "Requirement already satisfied: certifi in /usr/local/lib/python3.10/dist-packages (from httpx<1,>=0.23.0->groq<1,>=0.4.1->langchain_groq) (2024.7.4)\n",
            "Collecting httpcore==1.* (from httpx<1,>=0.23.0->groq<1,>=0.4.1->langchain_groq)\n",
            "  Downloading httpcore-1.0.5-py3-none-any.whl (77 kB)\n",
            "\u001b[2K     \u001b[90m━━━━━━━━━━━━━━━━━━━━━━━━━━━━━━━━━━━━━━━━\u001b[0m \u001b[32m77.9/77.9 kB\u001b[0m \u001b[31m6.7 MB/s\u001b[0m eta \u001b[36m0:00:00\u001b[0m\n",
            "\u001b[?25hCollecting h11<0.15,>=0.13 (from httpcore==1.*->httpx<1,>=0.23.0->groq<1,>=0.4.1->langchain_groq)\n",
            "  Downloading h11-0.14.0-py3-none-any.whl (58 kB)\n",
            "\u001b[2K     \u001b[90m━━━━━━━━━━━━━━━━━━━━━━━━━━━━━━━━━━━━━━━━\u001b[0m \u001b[32m58.3/58.3 kB\u001b[0m \u001b[31m6.9 MB/s\u001b[0m eta \u001b[36m0:00:00\u001b[0m\n",
            "\u001b[?25hRequirement already satisfied: jsonpointer>=1.9 in /usr/local/lib/python3.10/dist-packages (from jsonpatch<2.0,>=1.33->langchain-core<0.3,>=0.2.2->langchain_groq) (3.0.0)\n",
            "Requirement already satisfied: orjson<4.0.0,>=3.9.14 in /usr/local/lib/python3.10/dist-packages (from langsmith<0.2.0,>=0.1.75->langchain-core<0.3,>=0.2.2->langchain_groq) (3.10.6)\n",
            "Requirement already satisfied: requests<3,>=2 in /usr/local/lib/python3.10/dist-packages (from langsmith<0.2.0,>=0.1.75->langchain-core<0.3,>=0.2.2->langchain_groq) (2.31.0)\n",
            "Requirement already satisfied: annotated-types>=0.4.0 in /usr/local/lib/python3.10/dist-packages (from pydantic<3,>=1.9.0->groq<1,>=0.4.1->langchain_groq) (0.7.0)\n",
            "Requirement already satisfied: pydantic-core==2.20.1 in /usr/local/lib/python3.10/dist-packages (from pydantic<3,>=1.9.0->groq<1,>=0.4.1->langchain_groq) (2.20.1)\n",
            "Requirement already satisfied: charset-normalizer<4,>=2 in /usr/local/lib/python3.10/dist-packages (from requests<3,>=2->langsmith<0.2.0,>=0.1.75->langchain-core<0.3,>=0.2.2->langchain_groq) (3.3.2)\n",
            "Requirement already satisfied: urllib3<3,>=1.21.1 in /usr/local/lib/python3.10/dist-packages (from requests<3,>=2->langsmith<0.2.0,>=0.1.75->langchain-core<0.3,>=0.2.2->langchain_groq) (2.0.7)\n",
            "Installing collected packages: h11, httpcore, httpx, groq, langchain_groq\n",
            "Successfully installed groq-0.9.0 h11-0.14.0 httpcore-1.0.5 httpx-0.27.0 langchain_groq-0.1.6\n"
          ]
        }
      ]
    },
    {
      "cell_type": "code",
      "source": [
        "!pip install python-dotenv==1.0.0"
      ],
      "metadata": {
        "colab": {
          "base_uri": "https://localhost:8080/"
        },
        "id": "Qnavi3CxQsW1",
        "outputId": "78d9a760-34dd-413e-c993-d0b4dee3ceb5"
      },
      "execution_count": 11,
      "outputs": [
        {
          "output_type": "stream",
          "name": "stdout",
          "text": [
            "Requirement already satisfied: python-dotenv==1.0.0 in /usr/local/lib/python3.10/dist-packages (1.0.0)\n"
          ]
        }
      ]
    },
    {
      "cell_type": "code",
      "source": [
        "from langchain_core.prompts import PromptTemplate\n",
        "from langchain_core.output_parsers import StrOutputParser\n",
        "from langchain_groq import ChatGroq\n",
        "from dotenv import load_dotenv\n",
        "import os"
      ],
      "metadata": {
        "id": "f4tt7LADQfJc"
      },
      "execution_count": 12,
      "outputs": []
    },
    {
      "cell_type": "code",
      "source": [
        "#loading the API key\n",
        "load_dotenv()\n",
        "#getting the api key\n",
        "api_key = \"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\"\n",
        "\n"
      ],
      "metadata": {
        "id": "Q6z-CjOaQzGh"
      },
      "execution_count": 13,
      "outputs": []
    },
    {
      "cell_type": "code",
      "source": [
        "groqAPI_model=ChatGroq(api_key=api_key,model='llama3-70b-8192')\n"
      ],
      "metadata": {
        "id": "MufkQcfXWABP"
      },
      "execution_count": 14,
      "outputs": []
    },
    {
      "cell_type": "code",
      "source": [
        "#defining the prompt template\n",
        "\n",
        "prompt_template = PromptTemplate(\n",
        "    input_variables=[\"query\"],template=\"Story about {query}\"\n",
        ")"
      ],
      "metadata": {
        "id": "zAkSLRZtSjb-"
      },
      "execution_count": 15,
      "outputs": []
    },
    {
      "cell_type": "code",
      "source": [
        "parser = StrOutputParser()\n",
        "# # Create a chain with the prompt and parser\n",
        "chainSec = prompt_template | groqAPI_model | parser"
      ],
      "metadata": {
        "id": "pJzXgMUkWnc1"
      },
      "execution_count": 16,
      "outputs": []
    },
    {
      "cell_type": "code",
      "source": [
        "#create an story telling generation using the above model\n",
        "while True:\n",
        "  query = input(\"Enter your story idea (or 'quit' to exit): \")\n",
        "  if query.lower() == 'quit':\n",
        "    break\n",
        "  response = chainSec.invoke(query)\n",
        "  print(response)"
      ],
      "metadata": {
        "colab": {
          "base_uri": "https://localhost:8080/"
        },
        "id": "lTpy6ltcXg81",
        "outputId": "1df3d145-3d48-4782-abc4-c4c8a88c810e"
      },
      "execution_count": 20,
      "outputs": [
        {
          "name": "stdout",
          "output_type": "stream",
          "text": [
            "Enter your story idea (or 'quit' to exit): lion and the mouse\n",
            "A classic tale!\n",
            "\n",
            "Here's the story of the lion and the mouse:\n",
            "\n",
            "**The Lion and the Mouse**\n",
            "\n",
            "In the savannah, a mighty lion named Leo ruled over the land with his powerful roar and sharp claws. One day, while taking a nap, a tiny mouse named Max scurried by and accidentally disturbed Leo's slumber.\n",
            "\n",
            "Leo, feeling annoyed and amused by the mouse's boldness, decided to have some fun. He picked up Max in his massive paw and teased him, saying, \"What can you do, little mouse? You're so small and insignificant. Why should I spare your life?\"\n",
            "\n",
            "Max, trembling with fear, looked up at Leo and said, \"Although I am small, I can be of great use to you one day. Spare my life, and I promise to repay your kindness.\"\n",
            "\n",
            "Leo laughed at the absurdity of the mouse's claim, but something about Max's bravery and determination struck a chord. He decided to let Max go, thinking it was a harmless gesture.\n",
            "\n",
            "Days passed, and Leo forgot about the incident. But Max didn't forget. He made it a point to remember the lion's face and voice, hoping to one day repay the debt.\n",
            "\n",
            "Meanwhile, Leo got into trouble. While exploring the outskirts of the savannah, he got caught in a hunter's net. The more he struggled, the tighter the net became. Leo realized he was trapped and would soon become the hunter's prey.\n",
            "\n",
            "Just as all hope seemed lost, Max appeared out of nowhere, gnawing and nibbling at the ropes that held Leo captive. With his tiny teeth, Max managed to loosen the knots, and eventually, Leo was free.\n",
            "\n",
            "Overwhelmed with gratitude, Leo thanked Max for saving his life. \"I was wrong to underestimate you, little mouse,\" he said. \"Your bravery and kindness have earned my respect and friendship.\"\n",
            "\n",
            "From that day on, Leo and Max became unlikely friends, often exploring the savannah together and looking out for each other's well-being. The lion learned that even the smallest of creatures can make a big difference, and the mouse learned that bravery and determination can lead to unexpected rewards.\n",
            "\n",
            "This ancient fable, attributed to the Greek storyteller Aesop, teaches us that kindness, gratitude, and friendship can cross even the greatest of size and power differences.\n",
            "Enter your story idea (or 'quit' to exit): tell me the story on ridhin issac and deyon\n",
            "You're referring to Rithin Isaac and Deyon Davis, the duo behind the popular YouTube channel \"Rithin and Deyon\"!\n",
            "\n",
            "Rithin Isaac and Deyon Davis are two friends from Kerala, India, who rose to fame on YouTube with their entertaining and informative content. Here's their story:\n",
            "\n",
            "**The Early Days**\n",
            "Rithin Isaac, born on August 25, 1997, and Deyon Davis, born on November 22, 1998, grew up in Kerala, India. They met in school and became fast friends, bonding over their shared interests in technology, gadgets, and gaming.\n",
            "\n",
            "**The YouTube Journey**\n",
            "In 2017, Rithin and Deyon decided to create a YouTube channel, initially focused on gaming content. They started recording gameplay videos, walkthroughs, and reviews, but soon realized that their strength lay in creating engaging, informative, and entertaining content that went beyond gaming.\n",
            "\n",
            "**The Turning Point**\n",
            "Their channel gained momentum when they started creating \"challenge\" videos, where they would attempt to do unusual things, like surviving on a low budget or trying weird food combinations. These videos resonated with their audience, and their channel started to gain traction.\n",
            "\n",
            "**Rise to Fame**\n",
            "As their popularity grew, Rithin and Deyon diversified their content to include vlogs, travel videos, and product reviews. Their channel became known for its humor, energy, and relatability. They started collaborating with other popular YouTubers and influencers, further increasing their reach.\n",
            "\n",
            "**Awards and Recognition**\n",
            "Today, Rithin and Deyon are one of the most popular YouTube duos in India, with over 3.5 million subscribers and millions of views on their channel. They have won several awards, including the \"Best YouTuber\" award at the 2020 Filmfare Awards South.\n",
            "\n",
            "**Philanthropy and Social Responsibility**\n",
            "Rithin and Deyon use their platform to raise awareness about social issues, such as mental health, education, and environmental conservation. They have also participated in charity events and fundraisers, demonstrating their commitment to giving back to their community.\n",
            "\n",
            "**The Future**\n",
            "Rithin and Deyon continue to create engaging content, exploring new formats and themes. They have expressed interest in pursuing careers in films and television, and have already made appearances in a few Malayalam movies.\n",
            "\n",
            "The story of Rithin Isaac and Deyon Davis serves as an inspiration to many young creators, demonstrating the power of friendship, hard work, and creativity in achieving success in the digital age.\n",
            "Enter your story idea (or 'quit' to exit): quit\n"
          ]
        }
      ]
    },
    {
      "cell_type": "code",
      "source": [
        "# # prompt: # create an interactive prompt for story generation using the above model\n",
        "\n",
        "# from langchain.chains import ConversationChain\n",
        "# from langchain.memory import ConversationBufferMemory\n",
        "\n",
        "# conversation_with_summary = ConversationChain(\n",
        "#     llm=groqAPI_model,\n",
        "#     memory=ConversationBufferMemory(),\n",
        "#     verbose=True\n",
        "# )\n",
        "\n",
        "# while True:\n",
        "#   query = input(\"Enter your story idea (or 'quit' to exit): \")\n",
        "#   if query.lower() == 'quit':\n",
        "#     break\n",
        "#   response = conversation_with_summary.predict(input=query)\n",
        "#   print(response)\n"
      ],
      "metadata": {
        "colab": {
          "base_uri": "https://localhost:8080/"
        },
        "id": "EcyYt3_DWy2h",
        "outputId": "4d1991bd-a23c-4fcd-c179-aed3e594d3f8"
      },
      "execution_count": 18,
      "outputs": [
        {
          "output_type": "stream",
          "name": "stderr",
          "text": [
            "/usr/local/lib/python3.10/dist-packages/langchain_core/_api/deprecation.py:139: LangChainDeprecationWarning: The class `ConversationChain` was deprecated in LangChain 0.2.7 and will be removed in 1.0. Use RunnableWithMessageHistory: https://api.python.langchain.com/en/latest/runnables/langchain_core.runnables.history.RunnableWithMessageHistory.html instead.\n",
            "  warn_deprecated(\n"
          ]
        },
        {
          "name": "stdout",
          "output_type": "stream",
          "text": [
            "Enter your story idea (or 'quit' to exit): lion and the mouse\n",
            "\n",
            "\n",
            "\u001b[1m> Entering new ConversationChain chain...\u001b[0m\n",
            "Prompt after formatting:\n",
            "\u001b[32;1m\u001b[1;3mThe following is a friendly conversation between a human and an AI. The AI is talkative and provides lots of specific details from its context. If the AI does not know the answer to a question, it truthfully says it does not know.\n",
            "\n",
            "Current conversation:\n",
            "\n",
            "Human: lion and the mouse\n",
            "AI:\u001b[0m\n",
            "\n",
            "\u001b[1m> Finished chain.\u001b[0m\n",
            "I think I know this one! You're referring to the famous fable \"The Lion and the Mouse\" by Aesop, aren't you? It's a story about a lion who spares the life of a mouse that it has caught, and later, when the lion is caught in a hunter's net, the mouse comes to its rescue and gnaws through the ropes to set the lion free. The moral of the story, of course, is that even the smallest of creatures can be of great help. Did I get it right?\n",
            "Enter your story idea (or 'quit' to exit): beauty and the beast\n",
            "\n",
            "\n",
            "\u001b[1m> Entering new ConversationChain chain...\u001b[0m\n",
            "Prompt after formatting:\n",
            "\u001b[32;1m\u001b[1;3mThe following is a friendly conversation between a human and an AI. The AI is talkative and provides lots of specific details from its context. If the AI does not know the answer to a question, it truthfully says it does not know.\n",
            "\n",
            "Current conversation:\n",
            "Human: lion and the mouse\n",
            "AI: I think I know this one! You're referring to the famous fable \"The Lion and the Mouse\" by Aesop, aren't you? It's a story about a lion who spares the life of a mouse that it has caught, and later, when the lion is caught in a hunter's net, the mouse comes to its rescue and gnaws through the ropes to set the lion free. The moral of the story, of course, is that even the smallest of creatures can be of great help. Did I get it right?\n",
            "Human: beauty and the beast\n",
            "AI:\u001b[0m\n",
            "\n",
            "\u001b[1m> Finished chain.\u001b[0m\n",
            "Another classic! I believe you're referring to the timeless fairy tale \"Beauty and the Beast\". This beloved story has been retold and adapted in many ways, but the original version was first published by French author Gabrielle-Suzanne Barbot de Villeneuve in 1740. The story revolves around a beautiful young woman named Belle who falls in love with a prince who has been cursed to live as a beast unless he finds true love. The Beast, despite his physical appearance, shows kindness and compassion to Belle, and eventually, she learns to see beyond his exterior and falls in love with him. The curse is broken, and the Beast transforms back into the prince. The tale teaches us about the importance of inner beauty, acceptance, and the power of love to overcome even the most daunting obstacles. Would you like to know more about the different adaptations and variations of this tale?\n",
            "Enter your story idea (or 'quit' to exit): quit\n"
          ]
        }
      ]
    },
    {
      "cell_type": "code",
      "source": [],
      "metadata": {
        "id": "jZTx70PmW3Id"
      },
      "execution_count": null,
      "outputs": []
    }
  ]
}