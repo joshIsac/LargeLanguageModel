{
  "nbformat": 4,
  "nbformat_minor": 0,
  "metadata": {
    "colab": {
      "provenance": [],
      "authorship_tag": "ABX9TyOPtDksltWwl3o+x7FDgDtX",
      "include_colab_link": true
    },
    "kernelspec": {
      "name": "python3",
      "display_name": "Python 3"
    },
    "language_info": {
      "name": "python"
    }
  },
  "cells": [
    {
      "cell_type": "markdown",
      "metadata": {
        "id": "view-in-github",
        "colab_type": "text"
      },
      "source": [
        "<a href=\"https://colab.research.google.com/github/joshIsac/LargeLanguageModel/blob/main/2348523_LLM_lab5.ipynb\" target=\"_parent\"><img src=\"https://colab.research.google.com/assets/colab-badge.svg\" alt=\"Open In Colab\"/></a>"
      ]
    },
    {
      "cell_type": "code",
      "source": [
        "!pip install transformers"
      ],
      "metadata": {
        "colab": {
          "base_uri": "https://localhost:8080/"
        },
        "id": "Q7Ri1g_MjIKF",
        "outputId": "6c4343b0-29d0-4018-ee01-2cfbe9b34ffd"
      },
      "execution_count": 7,
      "outputs": [
        {
          "output_type": "stream",
          "name": "stdout",
          "text": [
            "Requirement already satisfied: transformers in /usr/local/lib/python3.10/dist-packages (4.42.4)\n",
            "Requirement already satisfied: filelock in /usr/local/lib/python3.10/dist-packages (from transformers) (3.15.4)\n",
            "Requirement already satisfied: huggingface-hub<1.0,>=0.23.2 in /usr/local/lib/python3.10/dist-packages (from transformers) (0.23.5)\n",
            "Requirement already satisfied: numpy<2.0,>=1.17 in /usr/local/lib/python3.10/dist-packages (from transformers) (1.26.4)\n",
            "Requirement already satisfied: packaging>=20.0 in /usr/local/lib/python3.10/dist-packages (from transformers) (24.1)\n",
            "Requirement already satisfied: pyyaml>=5.1 in /usr/local/lib/python3.10/dist-packages (from transformers) (6.0.1)\n",
            "Requirement already satisfied: regex!=2019.12.17 in /usr/local/lib/python3.10/dist-packages (from transformers) (2024.5.15)\n",
            "Requirement already satisfied: requests in /usr/local/lib/python3.10/dist-packages (from transformers) (2.32.3)\n",
            "Requirement already satisfied: safetensors>=0.4.1 in /usr/local/lib/python3.10/dist-packages (from transformers) (0.4.3)\n",
            "Requirement already satisfied: tokenizers<0.20,>=0.19 in /usr/local/lib/python3.10/dist-packages (from transformers) (0.19.1)\n",
            "Requirement already satisfied: tqdm>=4.27 in /usr/local/lib/python3.10/dist-packages (from transformers) (4.66.4)\n",
            "Requirement already satisfied: fsspec>=2023.5.0 in /usr/local/lib/python3.10/dist-packages (from huggingface-hub<1.0,>=0.23.2->transformers) (2024.5.0)\n",
            "Requirement already satisfied: typing-extensions>=3.7.4.3 in /usr/local/lib/python3.10/dist-packages (from huggingface-hub<1.0,>=0.23.2->transformers) (4.12.2)\n",
            "Requirement already satisfied: charset-normalizer<4,>=2 in /usr/local/lib/python3.10/dist-packages (from requests->transformers) (3.3.2)\n",
            "Requirement already satisfied: idna<4,>=2.5 in /usr/local/lib/python3.10/dist-packages (from requests->transformers) (3.7)\n",
            "Requirement already satisfied: urllib3<3,>=1.21.1 in /usr/local/lib/python3.10/dist-packages (from requests->transformers) (2.0.7)\n",
            "Requirement already satisfied: certifi>=2017.4.17 in /usr/local/lib/python3.10/dist-packages (from requests->transformers) (2024.7.4)\n"
          ]
        }
      ]
    },
    {
      "cell_type": "code",
      "execution_count": 54,
      "metadata": {
        "id": "nDmUP4MNfZSv"
      },
      "outputs": [],
      "source": [
        "import tensorflow as tf\n",
        "from transformers import BertTokenizer,TFBertForTokenClassification\n",
        "from transformers import BertConfig\n",
        "import matplotlib.pyplot as plt\n",
        "import numpy as np\n",
        "import pandas as pd\n",
        "import os"
      ]
    },
    {
      "cell_type": "code",
      "source": [
        "# Load model directly\n",
        "from transformers import AutoTokenizer, TFAutoModelForTokenClassification\n",
        "\n",
        "tokenizer = AutoTokenizer.from_pretrained(\"dslim/bert-base-NER\")\n",
        "model = TFAutoModelForTokenClassification.from_pretrained(\"dslim/bert-base-NER\")"
      ],
      "metadata": {
        "colab": {
          "base_uri": "https://localhost:8080/"
        },
        "id": "urgt5Y5kgxMw",
        "outputId": "f020f1f7-80e2-4d00-962f-2f7d98ae43b9"
      },
      "execution_count": 75,
      "outputs": [
        {
          "output_type": "stream",
          "name": "stderr",
          "text": [
            "All PyTorch model weights were used when initializing TFBertForTokenClassification.\n",
            "\n",
            "All the weights of TFBertForTokenClassification were initialized from the PyTorch model.\n",
            "If your task is similar to the task the model of the checkpoint was trained on, you can already use TFBertForTokenClassification for predictions without further training.\n"
          ]
        }
      ]
    },
    {
      "cell_type": "code",
      "source": [
        "sentences = [\n",
        "    \"Albert Einstein was born in Ulm.\",\n",
        "    \"Microsoft was founded by Bill Gates and Paul Allen.\",\n",
        "]\n",
        "\n",
        "#assign label for each sentence\n",
        "labels = [\n",
        "    [1, 2, 0, 0, 0, 0],\n",
        "    [1, 0, 0, 0, 1, 2, 0]\n",
        "]\n",
        "\n",
        "\n",
        "max_len = 20  # Maximum length of a sentence\n",
        "\n",
        "# Initialize lists\n",
        "input_ids = []\n",
        "attention_masks = []\n",
        "label_ids = []\n",
        "\n",
        "# Tokenize sentences\n",
        "for sent, label in zip(sentences, labels):\n",
        "    # Print the current sentence and label for debugging\n",
        "    print(f\"Processing sentence: '{sent}' with label: {label}\")\n",
        "\n",
        "    encoded_dict = tokenizer.encode_plus(\n",
        "        sent,\n",
        "        add_special_tokens=True,\n",
        "        max_length=max_len,\n",
        "        padding='max_length',\n",
        "        return_attention_mask=True,\n",
        "        return_tensors='tf'\n",
        "    )\n",
        "\n",
        "    input_ids.append(encoded_dict['input_ids'])\n",
        "    attention_masks.append(encoded_dict['attention_mask'])\n",
        "    label_ids.append(label + [0] * (max_len - len(label)))\n",
        "\n",
        "# Check if the lists are populated\n",
        "print(f\"Number of input_ids: {len(input_ids)}\")\n",
        "print(f\"Number of attention_masks: {len(attention_masks)}\")\n",
        "print(f\"Number of label_ids: {len(label_ids)}\")\n",
        "\n",
        "# Convert lists to numpy arrays\n",
        "input_ids = np.array(input_ids)\n",
        "attention_masks = np.array(attention_masks)\n",
        "label_ids = np.array(label_ids)\n",
        "\n",
        "# Print shapes after conversion\n",
        "print(f\"input_ids shape: {input_ids.shape}\")\n",
        "print(f\"attention_masks shape: {attention_masks.shape}\")\n",
        "print(f\"label_ids shape: {label_ids.shape}\")\n",
        "\n"
      ],
      "metadata": {
        "colab": {
          "base_uri": "https://localhost:8080/"
        },
        "id": "Ygcqg5ltlESH",
        "outputId": "64f61e46-dbd6-49ee-ce45-43c97b5e45b5"
      },
      "execution_count": 106,
      "outputs": [
        {
          "output_type": "stream",
          "name": "stdout",
          "text": [
            "Processing sentence: 'Albert Einstein was born in Ulm.' with label: [1, 2, 0, 0, 0, 0]\n",
            "Processing sentence: 'Microsoft was founded by Bill Gates and Paul Allen.' with label: [1, 0, 0, 0, 1, 2, 0]\n",
            "Number of input_ids: 2\n",
            "Number of attention_masks: 2\n",
            "Number of label_ids: 2\n",
            "input_ids shape: (2, 1, 20)\n",
            "attention_masks shape: (2, 1, 20)\n",
            "label_ids shape: (2, 20)\n"
          ]
        }
      ]
    },
    {
      "cell_type": "code",
      "source": [
        "# Create TensorFlow dataset\n",
        "dataset = tf.data.Dataset.from_tensor_slices(({\n",
        "    'input_ids': input_ids,\n",
        "    'attention_mask': attention_masks\n",
        "}, label_ids))\n",
        "\n",
        "# Check the contents of the dataset\n",
        "for element in dataset:\n",
        "    print(element)"
      ],
      "metadata": {
        "colab": {
          "base_uri": "https://localhost:8080/"
        },
        "id": "Usqa7rJpo9qW",
        "outputId": "9bcc91f8-3d1a-4e12-9975-1bd52d5bc023"
      },
      "execution_count": 119,
      "outputs": [
        {
          "output_type": "stream",
          "name": "stdout",
          "text": [
            "({'input_ids': <tf.Tensor: shape=(1, 20), dtype=int32, numpy=\n",
            "array([[  101,  3986, 16127,  1108,  1255,  1107,   158, 13505,   119,\n",
            "          102,     0,     0,     0,     0,     0,     0,     0,     0,\n",
            "            0,     0]], dtype=int32)>, 'attention_mask': <tf.Tensor: shape=(1, 20), dtype=int32, numpy=\n",
            "array([[1, 1, 1, 1, 1, 1, 1, 1, 1, 1, 0, 0, 0, 0, 0, 0, 0, 0, 0, 0]],\n",
            "      dtype=int32)>}, <tf.Tensor: shape=(20,), dtype=int64, numpy=array([1, 2, 0, 0, 0, 0, 0, 0, 0, 0, 0, 0, 0, 0, 0, 0, 0, 0, 0, 0])>)\n",
            "({'input_ids': <tf.Tensor: shape=(1, 20), dtype=int32, numpy=\n",
            "array([[  101,  6998,  1108,  1771,  1118,  2617, 12702,  1105,  1795,\n",
            "         4522,   119,   102,     0,     0,     0,     0,     0,     0,\n",
            "            0,     0]], dtype=int32)>, 'attention_mask': <tf.Tensor: shape=(1, 20), dtype=int32, numpy=\n",
            "array([[1, 1, 1, 1, 1, 1, 1, 1, 1, 1, 1, 1, 0, 0, 0, 0, 0, 0, 0, 0]],\n",
            "      dtype=int32)>}, <tf.Tensor: shape=(20,), dtype=int64, numpy=array([1, 0, 0, 0, 1, 2, 0, 0, 0, 0, 0, 0, 0, 0, 0, 0, 0, 0, 0, 0])>)\n"
          ]
        }
      ]
    },
    {
      "cell_type": "code",
      "source": [
        "# Compile the model\n",
        "optimizer ='adam'\n",
        "loss = 'sparse_categorical_crossentropy'\n",
        "model.compile(optimizer=optimizer, loss=loss, metrics=['accuracy'])\n"
      ],
      "metadata": {
        "id": "eXP2Rku8pW3F"
      },
      "execution_count": 120,
      "outputs": []
    },
    {
      "cell_type": "code",
      "source": [
        "# Train the model\n",
        "model.fit(dataset, epochs=3)"
      ],
      "metadata": {
        "colab": {
          "base_uri": "https://localhost:8080/"
        },
        "id": "EeZs6MM4pmKe",
        "outputId": "5ec91836-d638-4c94-8310-a3dfe86254a7"
      },
      "execution_count": 121,
      "outputs": [
        {
          "output_type": "stream",
          "name": "stdout",
          "text": [
            "Epoch 1/3\n",
            "2/2 [==============================] - 35s 2s/step - loss: 2.1972 - accuracy: 0.7250\n",
            "Epoch 2/3\n",
            "2/2 [==============================] - 3s 1s/step - loss: 2.1972 - accuracy: 0.8250\n",
            "Epoch 3/3\n",
            "2/2 [==============================] - 3s 1s/step - loss: 2.1972 - accuracy: 0.7750\n"
          ]
        },
        {
          "output_type": "execute_result",
          "data": {
            "text/plain": [
              "<tf_keras.src.callbacks.History at 0x7b445aa49a50>"
            ]
          },
          "metadata": {},
          "execution_count": 121
        }
      ]
    },
    {
      "cell_type": "code",
      "source": [
        "# prompt: #implement NER on the Sentences above\n",
        "\n",
        "# Predict on new sentences\n",
        "new_sentences = [\n",
        "    \"Albert Einstein was born in Ulm.\",\n",
        "    \"Microsoft was founded by Bill Gates and Paul Allen.\",\n",
        "]\n",
        "\n",
        "\n",
        "# Tokenize and prepare new sentences\n",
        "input_ids_new = []\n",
        "attention_masks_new = []\n",
        "\n",
        "for sent in new_sentences:\n",
        "    encoded_dict = tokenizer.encode_plus(\n",
        "        sent,\n",
        "        add_special_tokens=True,\n",
        "        max_length=max_len,\n",
        "        padding='max_length',\n",
        "        return_attention_mask=True,\n",
        "        return_tensors='tf'\n",
        "    )\n",
        "    input_ids_new.append(encoded_dict['input_ids'])\n",
        "    attention_masks_new.append(encoded_dict['attention_mask'])\n",
        "\n",
        "input_ids_new = np.array(input_ids_new)\n",
        "attention_masks_new = np.array(attention_masks_new)\n",
        "\n",
        "# Make predictions\n",
        "predictions = model.predict({\n",
        "    'input_ids': input_ids_new.squeeze(),\n",
        "    'attention_mask': attention_masks_new.squeeze()\n",
        "})\n",
        "\n",
        "# Process predictions\n",
        "predicted_labels = np.argmax(predictions.logits, axis=-1)\n",
        "\n",
        "# Decode labels (replace with your actual label mapping)\n",
        "id_to_label = {0: 'O', 1: 'PER', 2: 'ORG', 3: 'LOC'}\n",
        "\n",
        "for sent, predicted_ids in zip(new_sentences, predicted_labels):\n",
        "    tokens = tokenizer.tokenize(sent)\n",
        "    predicted_tags = [id_to_label[id] for id in predicted_ids]\n",
        "    print(f\"Sentence: {sent}\")\n",
        "    for token, tag in zip(tokens, predicted_tags):\n",
        "        print(f\"{token}: {tag}\")\n",
        "    print(\"----\")\n"
      ],
      "metadata": {
        "colab": {
          "base_uri": "https://localhost:8080/"
        },
        "id": "VqZ5S1ZvxhW7",
        "outputId": "7a15d785-3021-4e79-9f03-22ccfa332abe"
      },
      "execution_count": 110,
      "outputs": [
        {
          "output_type": "stream",
          "name": "stdout",
          "text": [
            "1/1 [==============================] - 5s 5s/step\n",
            "Sentence: Albert Einstein was born in Ulm.\n",
            "Albert: O\n",
            "Einstein: O\n",
            "was: O\n",
            "born: O\n",
            "in: O\n",
            "U: O\n",
            "##lm: O\n",
            ".: O\n",
            "----\n",
            "Sentence: Microsoft was founded by Bill Gates and Paul Allen.\n",
            "Microsoft: O\n",
            "was: O\n",
            "founded: O\n",
            "by: O\n",
            "Bill: O\n",
            "Gates: O\n",
            "and: O\n",
            "Paul: O\n",
            "Allen: O\n",
            ".: O\n",
            "----\n"
          ]
        }
      ]
    },
    {
      "cell_type": "code",
      "source": [],
      "metadata": {
        "id": "E-6EQ8tfxrYV"
      },
      "execution_count": null,
      "outputs": []
    }
  ]
}