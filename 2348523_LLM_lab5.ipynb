{
  "nbformat": 4,
  "nbformat_minor": 0,
  "metadata": {
    "colab": {
      "provenance": [],
      "authorship_tag": "ABX9TyNa8sUHz+tIOyoYSclNZra3",
      "include_colab_link": true
    },
    "kernelspec": {
      "name": "python3",
      "display_name": "Python 3"
    },
    "language_info": {
      "name": "python"
    }
  },
  "cells": [
    {
      "cell_type": "markdown",
      "metadata": {
        "id": "view-in-github",
        "colab_type": "text"
      },
      "source": [
        "<a href=\"https://colab.research.google.com/github/joshIsac/LargeLanguageModel/blob/main/2348523_LLM_lab5.ipynb\" target=\"_parent\"><img src=\"https://colab.research.google.com/assets/colab-badge.svg\" alt=\"Open In Colab\"/></a>"
      ]
    },
    {
      "cell_type": "code",
      "source": [
        "!pip install transformers"
      ],
      "metadata": {
        "colab": {
          "base_uri": "https://localhost:8080/"
        },
        "id": "Q7Ri1g_MjIKF",
        "outputId": "13fdd00c-8c98-41d8-de5f-30e0f10a6130"
      },
      "execution_count": 27,
      "outputs": [
        {
          "output_type": "stream",
          "name": "stdout",
          "text": [
            "Requirement already satisfied: transformers in /usr/local/lib/python3.10/dist-packages (4.42.4)\n",
            "Requirement already satisfied: filelock in /usr/local/lib/python3.10/dist-packages (from transformers) (3.15.4)\n",
            "Requirement already satisfied: huggingface-hub<1.0,>=0.23.2 in /usr/local/lib/python3.10/dist-packages (from transformers) (0.23.5)\n",
            "Requirement already satisfied: numpy<2.0,>=1.17 in /usr/local/lib/python3.10/dist-packages (from transformers) (1.26.4)\n",
            "Requirement already satisfied: packaging>=20.0 in /usr/local/lib/python3.10/dist-packages (from transformers) (24.1)\n",
            "Requirement already satisfied: pyyaml>=5.1 in /usr/local/lib/python3.10/dist-packages (from transformers) (6.0.2)\n",
            "Requirement already satisfied: regex!=2019.12.17 in /usr/local/lib/python3.10/dist-packages (from transformers) (2024.5.15)\n",
            "Requirement already satisfied: requests in /usr/local/lib/python3.10/dist-packages (from transformers) (2.32.3)\n",
            "Requirement already satisfied: safetensors>=0.4.1 in /usr/local/lib/python3.10/dist-packages (from transformers) (0.4.4)\n",
            "Requirement already satisfied: tokenizers<0.20,>=0.19 in /usr/local/lib/python3.10/dist-packages (from transformers) (0.19.1)\n",
            "Requirement already satisfied: tqdm>=4.27 in /usr/local/lib/python3.10/dist-packages (from transformers) (4.66.5)\n",
            "Requirement already satisfied: fsspec>=2023.5.0 in /usr/local/lib/python3.10/dist-packages (from huggingface-hub<1.0,>=0.23.2->transformers) (2024.6.1)\n",
            "Requirement already satisfied: typing-extensions>=3.7.4.3 in /usr/local/lib/python3.10/dist-packages (from huggingface-hub<1.0,>=0.23.2->transformers) (4.12.2)\n",
            "Requirement already satisfied: charset-normalizer<4,>=2 in /usr/local/lib/python3.10/dist-packages (from requests->transformers) (3.3.2)\n",
            "Requirement already satisfied: idna<4,>=2.5 in /usr/local/lib/python3.10/dist-packages (from requests->transformers) (3.7)\n",
            "Requirement already satisfied: urllib3<3,>=1.21.1 in /usr/local/lib/python3.10/dist-packages (from requests->transformers) (2.0.7)\n",
            "Requirement already satisfied: certifi>=2017.4.17 in /usr/local/lib/python3.10/dist-packages (from requests->transformers) (2024.7.4)\n"
          ]
        }
      ]
    },
    {
      "cell_type": "code",
      "execution_count": 28,
      "metadata": {
        "id": "nDmUP4MNfZSv"
      },
      "outputs": [],
      "source": [
        "import tensorflow as tf\n",
        "from transformers import BertTokenizer,TFBertForTokenClassification\n",
        "from transformers import BertConfig\n",
        "import matplotlib.pyplot as plt\n",
        "import numpy as np\n",
        "import pandas as pd\n",
        "import os"
      ]
    },
    {
      "cell_type": "code",
      "source": [
        "# Load model directly\n",
        "from transformers import AutoTokenizer, TFAutoModelForTokenClassification ,BertForTokenClassification, AdamW\n",
        "\n",
        "tokenizer = AutoTokenizer.from_pretrained(\"dslim/bert-base-NER\")\n",
        "model = TFAutoModelForTokenClassification.from_pretrained(\"dslim/bert-base-NER\")"
      ],
      "metadata": {
        "colab": {
          "base_uri": "https://localhost:8080/"
        },
        "id": "urgt5Y5kgxMw",
        "outputId": "1fba3ca3-9c26-4820-ddbb-1e8511ad4a36"
      },
      "execution_count": 43,
      "outputs": [
        {
          "output_type": "stream",
          "name": "stderr",
          "text": [
            "All PyTorch model weights were used when initializing TFBertForTokenClassification.\n",
            "\n",
            "All the weights of TFBertForTokenClassification were initialized from the PyTorch model.\n",
            "If your task is similar to the task the model of the checkpoint was trained on, you can already use TFBertForTokenClassification for predictions without further training.\n"
          ]
        }
      ]
    },
    {
      "cell_type": "code",
      "source": [
        "import torch"
      ],
      "metadata": {
        "id": "-CnfVEVWy1Lw"
      },
      "execution_count": 38,
      "outputs": []
    },
    {
      "cell_type": "code",
      "source": [
        "# Define the sentences and their labels\n",
        "sentences = [\n",
        "    \"Albert Einstein was born in Ulm.\",\n",
        "    \"Microsoft was founded by Bill Gates and Paul Allen.\",\n",
        "    \"Cats and Dogs are Enemies\",\n",
        "     \"Barack Obama was the president of the USA.\",\n",
        "    \"The Eiffel Tower is in Paris.\",\n",
        "    \"Steve Jobs co-founded Apple Inc.\",\n",
        "    \"The Amazon rainforest is very large.\"\n",
        "]\n",
        "\n",
        "\n",
        "# Corresponding labels (1: B-PER, 2: I-PER, 3: B-ORG, 4: I-ORG, 5: B-LOC, 6: I-LOC)\n",
        "labels = [\n",
        "    [1, 2, 0, 0, 5, 0],  # Albert Einstein -> [B-PER, I-PER], Ulm -> [B-LOC]\n",
        "    [3, 0, 0, 1, 2, 0, 0],  # Microsoft -> [B-ORG], Bill Gates -> [B-PER]\n",
        "    [7, 0, 7, 0, 0],\n",
        "    [1, 0, 0, 0, 0, 0],  # Barack Obama -> [B-PER], USA -> [B-LOC]\n",
        "    [0, 0, 0, 0, 5, 0],  # Eiffel Tower -> [B-LOC]\n",
        "    [1, 2, 0, 3, 4, 0],  # Steve Jobs -> [B-PER], Apple Inc. -> [B-ORG]\n",
        "    [0, 0, 0, 0, 0, 0]  # No entities\n",
        "]\n",
        "\n",
        "# Updated label mapping\n",
        "label_map = {\n",
        "    \"O\": 0,      # Outside\n",
        "    \"B-PER\": 1,  # Beginning of person entity\n",
        "    \"I-PER\": 2,  # Inside a person entity\n",
        "    \"B-ORG\": 3,  # Beginning of organization entity\n",
        "    \"I-ORG\": 4,  # Inside an organization entity\n",
        "    \"B-LOC\": 5,  # Beginning of location entity\n",
        "    \"I-LOC\": 6,\n",
        "    \"B-ANM\":7\n",
        "}\n",
        "\n",
        "# Initialize BERT tokenizer\n",
        "tokenizer = BertTokenizer.from_pretrained('bert-base-uncased')\n",
        "\n",
        "# Define maximum length for tokenized sequences\n",
        "max_len = 20  # Maximum length of a sentence\n",
        "\n",
        "# Initialize lists to hold input IDs, attention masks, and label IDs\n",
        "input_ids = []\n",
        "attention_masks = []\n",
        "label_ids = []\n",
        "\n",
        "# Tokenize sentences\n",
        "for sent, label in zip(sentences, labels):\n",
        "    # Print the current sentence and label for debugging\n",
        "    print(f\"Processing sentence: '{sent}' with label: {label}\")\n",
        "\n",
        "    encoded_dict = tokenizer.encode_plus(\n",
        "        sent,\n",
        "        add_special_tokens=True,\n",
        "        max_length=max_len,\n",
        "        padding='max_length',\n",
        "        return_attention_mask=True,\n",
        "        return_tensors='pt'  # Use 'pt' for PyTorch tensors\n",
        "    )\n",
        "\n",
        "    input_ids.append(encoded_dict['input_ids'])\n",
        "    attention_masks.append(encoded_dict['attention_mask'])\n",
        "    label_ids.append(label + [0] * (max_len - len(label)))  # Pad labels to `max_len`\n",
        "\n",
        "# Check if the lists are populated\n",
        "print(f\"Number of input_ids: {len(input_ids)}\")\n",
        "print(f\"Number of attention_masks: {len(attention_masks)}\")\n",
        "print(f\"Number of label_ids: {len(label_ids)}\")\n",
        "\n",
        "# Convert lists to PyTorch tensors\n",
        "input_ids_tensor = torch.cat(input_ids)\n",
        "attention_masks_tensor = torch.cat(attention_masks)\n",
        "label_ids_tensor = torch.tensor(label_ids)\n",
        "\n",
        "# Print shapes after conversion\n",
        "print(f\"input_ids shape: {input_ids_tensor.shape}\")\n",
        "print(f\"attention_masks shape: {attention_masks_tensor.shape}\")\n",
        "print(f\"label_ids shape: {label_ids_tensor.shape}\")"
      ],
      "metadata": {
        "colab": {
          "base_uri": "https://localhost:8080/"
        },
        "id": "Ygcqg5ltlESH",
        "outputId": "1d18e425-e10b-4efe-f1b9-7370add04009"
      },
      "execution_count": 66,
      "outputs": [
        {
          "output_type": "stream",
          "name": "stdout",
          "text": [
            "Processing sentence: 'Albert Einstein was born in Ulm.' with label: [1, 2, 0, 0, 5, 0]\n",
            "Processing sentence: 'Microsoft was founded by Bill Gates and Paul Allen.' with label: [3, 0, 0, 1, 2, 0, 0]\n",
            "Processing sentence: 'Cats and Dogs are Enemies' with label: [7, 0, 7, 0, 0]\n",
            "Processing sentence: 'Barack Obama was the president of the USA.' with label: [1, 0, 0, 0, 0, 0]\n",
            "Processing sentence: 'The Eiffel Tower is in Paris.' with label: [0, 0, 0, 0, 5, 0]\n",
            "Processing sentence: 'Steve Jobs co-founded Apple Inc.' with label: [1, 2, 0, 3, 4, 0]\n",
            "Processing sentence: 'The Amazon rainforest is very large.' with label: [0, 0, 0, 0, 0, 0]\n",
            "Number of input_ids: 7\n",
            "Number of attention_masks: 7\n",
            "Number of label_ids: 7\n",
            "input_ids shape: torch.Size([7, 20])\n",
            "attention_masks shape: torch.Size([7, 20])\n",
            "label_ids shape: torch.Size([7, 20])\n"
          ]
        }
      ]
    },
    {
      "cell_type": "code",
      "source": [
        "from torch.utils.data import DataLoader, TensorDataset\n",
        "# Create a dataset and DataLoader\n",
        "dataset = TensorDataset(input_ids_tensor, attention_masks_tensor, label_ids_tensor)\n",
        "dataloader = DataLoader(dataset, batch_size=2, shuffle=True)"
      ],
      "metadata": {
        "id": "LEHBRvcTzNav"
      },
      "execution_count": 67,
      "outputs": []
    },
    {
      "cell_type": "code",
      "source": [
        "# Initialize the BERT model for token classification\n",
        "num_labels = len(label_map)\n",
        "model = BertForTokenClassification.from_pretrained('bert-base-uncased', num_labels=num_labels)\n"
      ],
      "metadata": {
        "colab": {
          "base_uri": "https://localhost:8080/"
        },
        "id": "J3l0xfVczVzb",
        "outputId": "4ed4e63a-93cd-4729-cfb5-a796ce9f9a91"
      },
      "execution_count": 68,
      "outputs": [
        {
          "output_type": "stream",
          "name": "stderr",
          "text": [
            "Some weights of BertForTokenClassification were not initialized from the model checkpoint at bert-base-uncased and are newly initialized: ['classifier.bias', 'classifier.weight']\n",
            "You should probably TRAIN this model on a down-stream task to be able to use it for predictions and inference.\n"
          ]
        }
      ]
    },
    {
      "cell_type": "code",
      "source": [
        "# Define the optimizer\n",
        "optimizer = AdamW(model.parameters(), lr=5e-5)\n",
        "\n",
        "# Set model to training mode\n",
        "model.train()\n",
        "\n",
        "# Training loop\n",
        "for epoch in range(10):  # Train for 3 epochs\n",
        "    for batch in dataloader:\n",
        "        b_input_ids = batch[0]\n",
        "        b_attention_masks = batch[1]\n",
        "        b_label_ids = batch[2]\n",
        "\n",
        "        optimizer.zero_grad()  # Clear previous gradients\n",
        "        outputs = model(b_input_ids, attention_mask=b_attention_masks, labels=b_label_ids)\n",
        "        loss = outputs[0]  # Model outputs are in the form of (loss, logits)\n",
        "        loss.backward()  # Backpropagation\n",
        "        optimizer.step()  # Update parameters\n",
        "\n",
        "        print(f\"Epoch: {epoch + 1}, Loss: {loss.item()}\")\n",
        "\n",
        "# Prediction Phase\n",
        "model.eval()  # Set model to evaluation mode\n"
      ],
      "metadata": {
        "colab": {
          "base_uri": "https://localhost:8080/"
        },
        "id": "WU3EPOZLzrvK",
        "outputId": "4697023a-6af1-494f-b774-9303a42b44c4"
      },
      "execution_count": 69,
      "outputs": [
        {
          "output_type": "stream",
          "name": "stderr",
          "text": [
            "/usr/local/lib/python3.10/dist-packages/transformers/optimization.py:591: FutureWarning: This implementation of AdamW is deprecated and will be removed in a future version. Use the PyTorch implementation torch.optim.AdamW instead, or set `no_deprecation_warning=True` to disable this warning\n",
            "  warnings.warn(\n"
          ]
        },
        {
          "output_type": "stream",
          "name": "stdout",
          "text": [
            "Epoch: 1, Loss: 2.125270128250122\n",
            "Epoch: 1, Loss: 1.7665526866912842\n",
            "Epoch: 1, Loss: 1.4622747898101807\n",
            "Epoch: 1, Loss: 1.2250856161117554\n",
            "Epoch: 2, Loss: 0.7862497568130493\n",
            "Epoch: 2, Loss: 0.3825218677520752\n",
            "Epoch: 2, Loss: 0.6831575632095337\n",
            "Epoch: 2, Loss: 0.5507920384407043\n",
            "Epoch: 3, Loss: 0.49747714400291443\n",
            "Epoch: 3, Loss: 0.38640812039375305\n",
            "Epoch: 3, Loss: 0.6580871939659119\n",
            "Epoch: 3, Loss: 0.3335500657558441\n",
            "Epoch: 4, Loss: 0.4211150109767914\n",
            "Epoch: 4, Loss: 0.30498963594436646\n",
            "Epoch: 4, Loss: 0.3168627619743347\n",
            "Epoch: 4, Loss: 0.6423942446708679\n",
            "Epoch: 5, Loss: 0.18715675175189972\n",
            "Epoch: 5, Loss: 0.3755376935005188\n",
            "Epoch: 5, Loss: 0.4342638850212097\n",
            "Epoch: 5, Loss: 0.1765187531709671\n",
            "Epoch: 6, Loss: 0.3221607506275177\n",
            "Epoch: 6, Loss: 0.23087266087532043\n",
            "Epoch: 6, Loss: 0.06773670762777328\n",
            "Epoch: 6, Loss: 0.44058284163475037\n",
            "Epoch: 7, Loss: 0.21616104245185852\n",
            "Epoch: 7, Loss: 0.22697961330413818\n",
            "Epoch: 7, Loss: 0.10615048557519913\n",
            "Epoch: 7, Loss: 0.27485552430152893\n",
            "Epoch: 8, Loss: 0.12743893265724182\n",
            "Epoch: 8, Loss: 0.13642141222953796\n",
            "Epoch: 8, Loss: 0.15104110538959503\n",
            "Epoch: 8, Loss: 0.10794645547866821\n",
            "Epoch: 9, Loss: 0.15211783349514008\n",
            "Epoch: 9, Loss: 0.20368488132953644\n",
            "Epoch: 9, Loss: 0.06901862472295761\n",
            "Epoch: 9, Loss: 0.0724189281463623\n",
            "Epoch: 10, Loss: 0.0684971958398819\n",
            "Epoch: 10, Loss: 0.07277940958738327\n",
            "Epoch: 10, Loss: 0.07226414978504181\n",
            "Epoch: 10, Loss: 0.1061229556798935\n"
          ]
        },
        {
          "output_type": "execute_result",
          "data": {
            "text/plain": [
              "BertForTokenClassification(\n",
              "  (bert): BertModel(\n",
              "    (embeddings): BertEmbeddings(\n",
              "      (word_embeddings): Embedding(30522, 768, padding_idx=0)\n",
              "      (position_embeddings): Embedding(512, 768)\n",
              "      (token_type_embeddings): Embedding(2, 768)\n",
              "      (LayerNorm): LayerNorm((768,), eps=1e-12, elementwise_affine=True)\n",
              "      (dropout): Dropout(p=0.1, inplace=False)\n",
              "    )\n",
              "    (encoder): BertEncoder(\n",
              "      (layer): ModuleList(\n",
              "        (0-11): 12 x BertLayer(\n",
              "          (attention): BertAttention(\n",
              "            (self): BertSdpaSelfAttention(\n",
              "              (query): Linear(in_features=768, out_features=768, bias=True)\n",
              "              (key): Linear(in_features=768, out_features=768, bias=True)\n",
              "              (value): Linear(in_features=768, out_features=768, bias=True)\n",
              "              (dropout): Dropout(p=0.1, inplace=False)\n",
              "            )\n",
              "            (output): BertSelfOutput(\n",
              "              (dense): Linear(in_features=768, out_features=768, bias=True)\n",
              "              (LayerNorm): LayerNorm((768,), eps=1e-12, elementwise_affine=True)\n",
              "              (dropout): Dropout(p=0.1, inplace=False)\n",
              "            )\n",
              "          )\n",
              "          (intermediate): BertIntermediate(\n",
              "            (dense): Linear(in_features=768, out_features=3072, bias=True)\n",
              "            (intermediate_act_fn): GELUActivation()\n",
              "          )\n",
              "          (output): BertOutput(\n",
              "            (dense): Linear(in_features=3072, out_features=768, bias=True)\n",
              "            (LayerNorm): LayerNorm((768,), eps=1e-12, elementwise_affine=True)\n",
              "            (dropout): Dropout(p=0.1, inplace=False)\n",
              "          )\n",
              "        )\n",
              "      )\n",
              "    )\n",
              "  )\n",
              "  (dropout): Dropout(p=0.1, inplace=False)\n",
              "  (classifier): Linear(in_features=768, out_features=8, bias=True)\n",
              ")"
            ]
          },
          "metadata": {},
          "execution_count": 69
        }
      ]
    },
    {
      "cell_type": "code",
      "source": [
        "sentences = [\n",
        "    \"Albert Einstein was born in Ulm.\",\n",
        "    \"Microsoft was founded by Bill Gates and Paul Allen.\",\n",
        "    \"Cats and Dogs are Enemies\",\n",
        "]\n",
        "\n",
        "# Tokenize new sentences\n",
        "input_ids_pred = []\n",
        "attention_masks_pred = []\n",
        "\n",
        "for sent in sentences:\n",
        "    encoded_dict = tokenizer.encode_plus(\n",
        "        sent,\n",
        "        add_special_tokens=True,\n",
        "        max_length=max_len,\n",
        "        padding='max_length',\n",
        "        return_attention_mask=True,\n",
        "        return_tensors='pt'\n",
        "    )\n",
        "\n",
        "    input_ids_pred.append(encoded_dict['input_ids'])\n",
        "    attention_masks_pred.append(encoded_dict['attention_mask'])\n",
        "\n",
        "input_ids_pred_tensor = torch.cat(input_ids_pred)\n",
        "attention_masks_pred_tensor = torch.cat(attention_masks_pred)\n",
        "\n"
      ],
      "metadata": {
        "id": "L8LxzwII0Nd4"
      },
      "execution_count": 70,
      "outputs": []
    },
    {
      "cell_type": "code",
      "source": [
        "# Set model to evaluation mode\n",
        "model.eval()\n",
        "\n",
        "# Define new sentences for prediction\n",
        "new_sentences = [\n",
        "    \"Steve Jobs co-founded Apple in Cupertino.\",\n",
        "    \"Bill Gates is a philanthropist.\",\n",
        "    \"The Great Wall of China is remarkable.\",\n",
        "    \"Albert Einstein was born in Ulm.\",\n",
        "    \"Microsoft was founded by Bill Gates and Paul Allen.\",\n",
        "    \"Cats and Dogs are Enemies\"\n",
        "]\n",
        "\n",
        "# Tokenize new sentences\n",
        "input_ids_pred = []\n",
        "attention_masks_pred = []\n",
        "\n",
        "for sent in new_sentences:\n",
        "    encoded_dict = tokenizer.encode_plus(\n",
        "        sent,\n",
        "        add_special_tokens=True,\n",
        "        max_length=max_len,\n",
        "        padding='max_length',\n",
        "        return_attention_mask=True,\n",
        "        truncation=True,\n",
        "        return_tensors='pt'\n",
        "    )\n",
        "\n",
        "    input_ids_pred.append(encoded_dict['input_ids'])\n",
        "    attention_masks_pred.append(encoded_dict['attention_mask'])\n",
        "\n",
        "# Convert to tensors\n",
        "input_ids_pred_tensor = torch.cat(input_ids_pred)\n",
        "attention_masks_pred_tensor = torch.cat(attention_masks_pred)\n",
        "\n",
        "# Make predictions\n",
        "with torch.no_grad():  # Disable gradient calculation\n",
        "    outputs = model(input_ids_pred_tensor, attention_mask=attention_masks_pred_tensor)\n",
        "    logits = outputs[0]  # Get the logits\n",
        "    predictions = torch.argmax(logits, dim=2)  # Get predicted labels\n",
        "\n",
        "# Decode predictions\n",
        "for i in range(len(new_sentences)):\n",
        "    predicted_labels = []\n",
        "    for j in range(predictions.shape[1]):\n",
        "        label_index = predictions[i][j].item()\n",
        "        # Get the corresponding label from the mapping (0 corresponds to 'O', etc.)\n",
        "        if label_index in label_map.values():\n",
        "            for label, index in label_map.items():\n",
        "                if index == label_index:\n",
        "                    predicted_labels.append(label)\n",
        "                    break\n",
        "        else:\n",
        "            predicted_labels.append(\"O\") # Default to 'O' if not found\n",
        "\n",
        "    # Print the results\n",
        "    print(f\"Sentence: '{new_sentences[i]}'\")\n",
        "    print(f\"Predicted Labels: {predicted_labels}\")\n"
      ],
      "metadata": {
        "colab": {
          "base_uri": "https://localhost:8080/"
        },
        "id": "6-z6S-FF01MA",
        "outputId": "68ba5aa1-fc3e-4c6d-eb2f-72d4d886e27c"
      },
      "execution_count": 71,
      "outputs": [
        {
          "output_type": "stream",
          "name": "stdout",
          "text": [
            "Sentence: 'Steve Jobs co-founded Apple in Cupertino.'\n",
            "Predicted Labels: ['B-PER', 'I-PER', 'O', 'B-ORG', 'I-ORG', 'O', 'O', 'O', 'O', 'O', 'O', 'O', 'O', 'O', 'O', 'O', 'O', 'O', 'O', 'O']\n",
            "Sentence: 'Bill Gates is a philanthropist.'\n",
            "Predicted Labels: ['B-PER', 'O', 'O', 'O', 'O', 'O', 'O', 'O', 'O', 'O', 'O', 'O', 'O', 'O', 'O', 'O', 'O', 'O', 'O', 'O']\n",
            "Sentence: 'The Great Wall of China is remarkable.'\n",
            "Predicted Labels: ['O', 'O', 'O', 'O', 'O', 'O', 'O', 'O', 'O', 'O', 'O', 'O', 'O', 'O', 'O', 'O', 'O', 'O', 'O', 'O']\n",
            "Sentence: 'Albert Einstein was born in Ulm.'\n",
            "Predicted Labels: ['B-PER', 'I-PER', 'O', 'O', 'B-LOC', 'O', 'O', 'O', 'O', 'O', 'O', 'O', 'O', 'O', 'O', 'O', 'O', 'O', 'O', 'O']\n",
            "Sentence: 'Microsoft was founded by Bill Gates and Paul Allen.'\n",
            "Predicted Labels: ['B-PER', 'O', 'O', 'B-PER', 'I-PER', 'O', 'O', 'O', 'O', 'O', 'O', 'O', 'O', 'O', 'O', 'O', 'O', 'O', 'O', 'O']\n",
            "Sentence: 'Cats and Dogs are Enemies'\n",
            "Predicted Labels: ['B-ANM', 'O', 'B-ANM', 'O', 'O', 'O', 'O', 'O', 'O', 'O', 'O', 'O', 'O', 'O', 'O', 'O', 'O', 'O', 'O', 'O']\n"
          ]
        }
      ]
    },
    {
      "cell_type": "code",
      "source": [],
      "metadata": {
        "id": "E-6EQ8tfxrYV"
      },
      "execution_count": 35,
      "outputs": []
    }
  ]
}