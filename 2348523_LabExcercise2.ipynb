{
  "nbformat": 4,
  "nbformat_minor": 0,
  "metadata": {
    "colab": {
      "provenance": [],
      "mount_file_id": "1c5SmlfjkPjS8zWiIUIl5uAJfuk4MrMM5",
      "authorship_tag": "ABX9TyNbINeyCNDF3nDqsZm8NoP6",
      "include_colab_link": true
    },
    "kernelspec": {
      "name": "python3",
      "display_name": "Python 3"
    },
    "language_info": {
      "name": "python"
    }
  },
  "cells": [
    {
      "cell_type": "markdown",
      "metadata": {
        "id": "view-in-github",
        "colab_type": "text"
      },
      "source": [
        "<a href=\"https://colab.research.google.com/github/joshIsac/LargeLanguageModel/blob/main/2348523_LabExcercise2.ipynb\" target=\"_parent\"><img src=\"https://colab.research.google.com/assets/colab-badge.svg\" alt=\"Open In Colab\"/></a>"
      ]
    },
    {
      "cell_type": "code",
      "source": [
        "!pip install langchain\n",
        "!pip install langchain_groq"
      ],
      "metadata": {
        "id": "CC7-Umix4OzR",
        "collapsed": true,
        "colab": {
          "base_uri": "https://localhost:8080/"
        },
        "outputId": "d7566001-932f-4eae-de53-ecc18dfc0884"
      },
      "execution_count": 1,
      "outputs": [
        {
          "output_type": "stream",
          "name": "stdout",
          "text": [
            "Collecting langchain\n",
            "  Downloading langchain-0.2.7-py3-none-any.whl (983 kB)\n",
            "\u001b[?25l     \u001b[90m━━━━━━━━━━━━━━━━━━━━━━━━━━━━━━━━━━━━━━━━\u001b[0m \u001b[32m0.0/983.6 kB\u001b[0m \u001b[31m?\u001b[0m eta \u001b[36m-:--:--\u001b[0m\r\u001b[2K     \u001b[91m━━━━━━━━━━\u001b[0m\u001b[90m╺\u001b[0m\u001b[90m━━━━━━━━━━━━━━━━━━━━━━━━━━━━━\u001b[0m \u001b[32m256.0/983.6 kB\u001b[0m \u001b[31m7.6 MB/s\u001b[0m eta \u001b[36m0:00:01\u001b[0m\r\u001b[2K     \u001b[91m━━━━━━━━━━━━━━━━━━━━━━━━━━━━━━━━━━━━━━━\u001b[0m\u001b[91m╸\u001b[0m \u001b[32m983.0/983.6 kB\u001b[0m \u001b[31m16.4 MB/s\u001b[0m eta \u001b[36m0:00:01\u001b[0m\r\u001b[2K     \u001b[90m━━━━━━━━━━━━━━━━━━━━━━━━━━━━━━━━━━━━━━━━\u001b[0m \u001b[32m983.6/983.6 kB\u001b[0m \u001b[31m13.4 MB/s\u001b[0m eta \u001b[36m0:00:00\u001b[0m\n",
            "\u001b[?25hRequirement already satisfied: PyYAML>=5.3 in /usr/local/lib/python3.10/dist-packages (from langchain) (6.0.1)\n",
            "Requirement already satisfied: SQLAlchemy<3,>=1.4 in /usr/local/lib/python3.10/dist-packages (from langchain) (2.0.31)\n",
            "Requirement already satisfied: aiohttp<4.0.0,>=3.8.3 in /usr/local/lib/python3.10/dist-packages (from langchain) (3.9.5)\n",
            "Requirement already satisfied: async-timeout<5.0.0,>=4.0.0 in /usr/local/lib/python3.10/dist-packages (from langchain) (4.0.3)\n",
            "Collecting langchain-core<0.3.0,>=0.2.12 (from langchain)\n",
            "  Downloading langchain_core-0.2.13-py3-none-any.whl (357 kB)\n",
            "\u001b[2K     \u001b[90m━━━━━━━━━━━━━━━━━━━━━━━━━━━━━━━━━━━━━━━━\u001b[0m \u001b[32m357.9/357.9 kB\u001b[0m \u001b[31m21.1 MB/s\u001b[0m eta \u001b[36m0:00:00\u001b[0m\n",
            "\u001b[?25hCollecting langchain-text-splitters<0.3.0,>=0.2.0 (from langchain)\n",
            "  Downloading langchain_text_splitters-0.2.2-py3-none-any.whl (25 kB)\n",
            "Collecting langsmith<0.2.0,>=0.1.17 (from langchain)\n",
            "  Downloading langsmith-0.1.85-py3-none-any.whl (127 kB)\n",
            "\u001b[2K     \u001b[90m━━━━━━━━━━━━━━━━━━━━━━━━━━━━━━━━━━━━━━━━\u001b[0m \u001b[32m127.9/127.9 kB\u001b[0m \u001b[31m14.9 MB/s\u001b[0m eta \u001b[36m0:00:00\u001b[0m\n",
            "\u001b[?25hRequirement already satisfied: numpy<2,>=1 in /usr/local/lib/python3.10/dist-packages (from langchain) (1.25.2)\n",
            "Requirement already satisfied: pydantic<3,>=1 in /usr/local/lib/python3.10/dist-packages (from langchain) (2.8.0)\n",
            "Requirement already satisfied: requests<3,>=2 in /usr/local/lib/python3.10/dist-packages (from langchain) (2.31.0)\n",
            "Requirement already satisfied: tenacity!=8.4.0,<9.0.0,>=8.1.0 in /usr/local/lib/python3.10/dist-packages (from langchain) (8.4.2)\n",
            "Requirement already satisfied: aiosignal>=1.1.2 in /usr/local/lib/python3.10/dist-packages (from aiohttp<4.0.0,>=3.8.3->langchain) (1.3.1)\n",
            "Requirement already satisfied: attrs>=17.3.0 in /usr/local/lib/python3.10/dist-packages (from aiohttp<4.0.0,>=3.8.3->langchain) (23.2.0)\n",
            "Requirement already satisfied: frozenlist>=1.1.1 in /usr/local/lib/python3.10/dist-packages (from aiohttp<4.0.0,>=3.8.3->langchain) (1.4.1)\n",
            "Requirement already satisfied: multidict<7.0,>=4.5 in /usr/local/lib/python3.10/dist-packages (from aiohttp<4.0.0,>=3.8.3->langchain) (6.0.5)\n",
            "Requirement already satisfied: yarl<2.0,>=1.0 in /usr/local/lib/python3.10/dist-packages (from aiohttp<4.0.0,>=3.8.3->langchain) (1.9.4)\n",
            "Collecting jsonpatch<2.0,>=1.33 (from langchain-core<0.3.0,>=0.2.12->langchain)\n",
            "  Downloading jsonpatch-1.33-py2.py3-none-any.whl (12 kB)\n",
            "Requirement already satisfied: packaging<25,>=23.2 in /usr/local/lib/python3.10/dist-packages (from langchain-core<0.3.0,>=0.2.12->langchain) (24.1)\n",
            "Collecting orjson<4.0.0,>=3.9.14 (from langsmith<0.2.0,>=0.1.17->langchain)\n",
            "  Downloading orjson-3.10.6-cp310-cp310-manylinux_2_17_x86_64.manylinux2014_x86_64.whl (141 kB)\n",
            "\u001b[2K     \u001b[90m━━━━━━━━━━━━━━━━━━━━━━━━━━━━━━━━━━━━━━━━\u001b[0m \u001b[32m141.1/141.1 kB\u001b[0m \u001b[31m9.8 MB/s\u001b[0m eta \u001b[36m0:00:00\u001b[0m\n",
            "\u001b[?25hRequirement already satisfied: annotated-types>=0.4.0 in /usr/local/lib/python3.10/dist-packages (from pydantic<3,>=1->langchain) (0.7.0)\n",
            "Requirement already satisfied: pydantic-core==2.20.0 in /usr/local/lib/python3.10/dist-packages (from pydantic<3,>=1->langchain) (2.20.0)\n",
            "Requirement already satisfied: typing-extensions>=4.6.1 in /usr/local/lib/python3.10/dist-packages (from pydantic<3,>=1->langchain) (4.12.2)\n",
            "Requirement already satisfied: charset-normalizer<4,>=2 in /usr/local/lib/python3.10/dist-packages (from requests<3,>=2->langchain) (3.3.2)\n",
            "Requirement already satisfied: idna<4,>=2.5 in /usr/local/lib/python3.10/dist-packages (from requests<3,>=2->langchain) (3.7)\n",
            "Requirement already satisfied: urllib3<3,>=1.21.1 in /usr/local/lib/python3.10/dist-packages (from requests<3,>=2->langchain) (2.0.7)\n",
            "Requirement already satisfied: certifi>=2017.4.17 in /usr/local/lib/python3.10/dist-packages (from requests<3,>=2->langchain) (2024.6.2)\n",
            "Requirement already satisfied: greenlet!=0.4.17 in /usr/local/lib/python3.10/dist-packages (from SQLAlchemy<3,>=1.4->langchain) (3.0.3)\n",
            "Collecting jsonpointer>=1.9 (from jsonpatch<2.0,>=1.33->langchain-core<0.3.0,>=0.2.12->langchain)\n",
            "  Downloading jsonpointer-3.0.0-py2.py3-none-any.whl (7.6 kB)\n",
            "Installing collected packages: orjson, jsonpointer, jsonpatch, langsmith, langchain-core, langchain-text-splitters, langchain\n",
            "Successfully installed jsonpatch-1.33 jsonpointer-3.0.0 langchain-0.2.7 langchain-core-0.2.13 langchain-text-splitters-0.2.2 langsmith-0.1.85 orjson-3.10.6\n",
            "Collecting langchain_groq\n",
            "  Downloading langchain_groq-0.1.6-py3-none-any.whl (14 kB)\n",
            "Collecting groq<1,>=0.4.1 (from langchain_groq)\n",
            "  Downloading groq-0.9.0-py3-none-any.whl (103 kB)\n",
            "\u001b[2K     \u001b[90m━━━━━━━━━━━━━━━━━━━━━━━━━━━━━━━━━━━━━━━━\u001b[0m \u001b[32m103.5/103.5 kB\u001b[0m \u001b[31m3.5 MB/s\u001b[0m eta \u001b[36m0:00:00\u001b[0m\n",
            "\u001b[?25hRequirement already satisfied: langchain-core<0.3,>=0.2.2 in /usr/local/lib/python3.10/dist-packages (from langchain_groq) (0.2.13)\n",
            "Requirement already satisfied: anyio<5,>=3.5.0 in /usr/local/lib/python3.10/dist-packages (from groq<1,>=0.4.1->langchain_groq) (3.7.1)\n",
            "Requirement already satisfied: distro<2,>=1.7.0 in /usr/lib/python3/dist-packages (from groq<1,>=0.4.1->langchain_groq) (1.7.0)\n",
            "Collecting httpx<1,>=0.23.0 (from groq<1,>=0.4.1->langchain_groq)\n",
            "  Downloading httpx-0.27.0-py3-none-any.whl (75 kB)\n",
            "\u001b[2K     \u001b[90m━━━━━━━━━━━━━━━━━━━━━━━━━━━━━━━━━━━━━━━━\u001b[0m \u001b[32m75.6/75.6 kB\u001b[0m \u001b[31m9.5 MB/s\u001b[0m eta \u001b[36m0:00:00\u001b[0m\n",
            "\u001b[?25hRequirement already satisfied: pydantic<3,>=1.9.0 in /usr/local/lib/python3.10/dist-packages (from groq<1,>=0.4.1->langchain_groq) (2.8.0)\n",
            "Requirement already satisfied: sniffio in /usr/local/lib/python3.10/dist-packages (from groq<1,>=0.4.1->langchain_groq) (1.3.1)\n",
            "Requirement already satisfied: typing-extensions<5,>=4.7 in /usr/local/lib/python3.10/dist-packages (from groq<1,>=0.4.1->langchain_groq) (4.12.2)\n",
            "Requirement already satisfied: PyYAML>=5.3 in /usr/local/lib/python3.10/dist-packages (from langchain-core<0.3,>=0.2.2->langchain_groq) (6.0.1)\n",
            "Requirement already satisfied: jsonpatch<2.0,>=1.33 in /usr/local/lib/python3.10/dist-packages (from langchain-core<0.3,>=0.2.2->langchain_groq) (1.33)\n",
            "Requirement already satisfied: langsmith<0.2.0,>=0.1.75 in /usr/local/lib/python3.10/dist-packages (from langchain-core<0.3,>=0.2.2->langchain_groq) (0.1.85)\n",
            "Requirement already satisfied: packaging<25,>=23.2 in /usr/local/lib/python3.10/dist-packages (from langchain-core<0.3,>=0.2.2->langchain_groq) (24.1)\n",
            "Requirement already satisfied: tenacity!=8.4.0,<9.0.0,>=8.1.0 in /usr/local/lib/python3.10/dist-packages (from langchain-core<0.3,>=0.2.2->langchain_groq) (8.4.2)\n",
            "Requirement already satisfied: idna>=2.8 in /usr/local/lib/python3.10/dist-packages (from anyio<5,>=3.5.0->groq<1,>=0.4.1->langchain_groq) (3.7)\n",
            "Requirement already satisfied: exceptiongroup in /usr/local/lib/python3.10/dist-packages (from anyio<5,>=3.5.0->groq<1,>=0.4.1->langchain_groq) (1.2.1)\n",
            "Requirement already satisfied: certifi in /usr/local/lib/python3.10/dist-packages (from httpx<1,>=0.23.0->groq<1,>=0.4.1->langchain_groq) (2024.6.2)\n",
            "Collecting httpcore==1.* (from httpx<1,>=0.23.0->groq<1,>=0.4.1->langchain_groq)\n",
            "  Downloading httpcore-1.0.5-py3-none-any.whl (77 kB)\n",
            "\u001b[2K     \u001b[90m━━━━━━━━━━━━━━━━━━━━━━━━━━━━━━━━━━━━━━━━\u001b[0m \u001b[32m77.9/77.9 kB\u001b[0m \u001b[31m9.7 MB/s\u001b[0m eta \u001b[36m0:00:00\u001b[0m\n",
            "\u001b[?25hCollecting h11<0.15,>=0.13 (from httpcore==1.*->httpx<1,>=0.23.0->groq<1,>=0.4.1->langchain_groq)\n",
            "  Downloading h11-0.14.0-py3-none-any.whl (58 kB)\n",
            "\u001b[2K     \u001b[90m━━━━━━━━━━━━━━━━━━━━━━━━━━━━━━━━━━━━━━━━\u001b[0m \u001b[32m58.3/58.3 kB\u001b[0m \u001b[31m8.0 MB/s\u001b[0m eta \u001b[36m0:00:00\u001b[0m\n",
            "\u001b[?25hRequirement already satisfied: jsonpointer>=1.9 in /usr/local/lib/python3.10/dist-packages (from jsonpatch<2.0,>=1.33->langchain-core<0.3,>=0.2.2->langchain_groq) (3.0.0)\n",
            "Requirement already satisfied: orjson<4.0.0,>=3.9.14 in /usr/local/lib/python3.10/dist-packages (from langsmith<0.2.0,>=0.1.75->langchain-core<0.3,>=0.2.2->langchain_groq) (3.10.6)\n",
            "Requirement already satisfied: requests<3,>=2 in /usr/local/lib/python3.10/dist-packages (from langsmith<0.2.0,>=0.1.75->langchain-core<0.3,>=0.2.2->langchain_groq) (2.31.0)\n",
            "Requirement already satisfied: annotated-types>=0.4.0 in /usr/local/lib/python3.10/dist-packages (from pydantic<3,>=1.9.0->groq<1,>=0.4.1->langchain_groq) (0.7.0)\n",
            "Requirement already satisfied: pydantic-core==2.20.0 in /usr/local/lib/python3.10/dist-packages (from pydantic<3,>=1.9.0->groq<1,>=0.4.1->langchain_groq) (2.20.0)\n",
            "Requirement already satisfied: charset-normalizer<4,>=2 in /usr/local/lib/python3.10/dist-packages (from requests<3,>=2->langsmith<0.2.0,>=0.1.75->langchain-core<0.3,>=0.2.2->langchain_groq) (3.3.2)\n",
            "Requirement already satisfied: urllib3<3,>=1.21.1 in /usr/local/lib/python3.10/dist-packages (from requests<3,>=2->langsmith<0.2.0,>=0.1.75->langchain-core<0.3,>=0.2.2->langchain_groq) (2.0.7)\n",
            "Installing collected packages: h11, httpcore, httpx, groq, langchain_groq\n",
            "Successfully installed groq-0.9.0 h11-0.14.0 httpcore-1.0.5 httpx-0.27.0 langchain_groq-0.1.6\n"
          ]
        }
      ]
    },
    {
      "cell_type": "code",
      "source": [
        "!pip install python-dotenv==1.0.0"
      ],
      "metadata": {
        "colab": {
          "base_uri": "https://localhost:8080/"
        },
        "id": "300VhLX_6BDW",
        "outputId": "2b9de2af-511c-4145-c772-c684d329451f"
      },
      "execution_count": 2,
      "outputs": [
        {
          "output_type": "stream",
          "name": "stdout",
          "text": [
            "Collecting python-dotenv==1.0.0\n",
            "  Downloading python_dotenv-1.0.0-py3-none-any.whl (19 kB)\n",
            "Installing collected packages: python-dotenv\n",
            "Successfully installed python-dotenv-1.0.0\n"
          ]
        }
      ]
    },
    {
      "cell_type": "code",
      "execution_count": 3,
      "metadata": {
        "id": "2noXNHkF4Hvw"
      },
      "outputs": [],
      "source": [
        "from langchain_core.prompts import PromptTemplate\n",
        "from langchain_core.output_parsers import StrOutputParser\n",
        "from langchain_groq import ChatGroq\n",
        "from dotenv import load_dotenv\n",
        "import os\n"
      ]
    },
    {
      "cell_type": "code",
      "source": [
        "load_dotenv()\n",
        "#getting the API KEY\n",
        "api_key = \"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\"\n",
        "\n",
        "print(api_key)"
      ],
      "metadata": {
        "colab": {
          "base_uri": "https://localhost:8080/"
        },
        "id": "Dc3c2VpP5mC3",
        "outputId": "22c686c7-bfb1-4736-975c-7c7741ebf160"
      },
      "execution_count": 4,
      "outputs": [
        {
          "output_type": "stream",
          "name": "stdout",
          "text": [
            "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\n"
          ]
        }
      ]
    },
    {
      "cell_type": "code",
      "source": [
        "groqAPI_model=ChatGroq(api_key=api_key, model_name='gemma-7b-it')\n"
      ],
      "metadata": {
        "id": "4AgWblyu9Sl9"
      },
      "execution_count": 5,
      "outputs": []
    },
    {
      "cell_type": "code",
      "source": [
        "# Define your prompt template\n",
        "\n",
        "prompt = PromptTemplate(\n",
        "    input_variables = [\"topic\"],\n",
        "    template=\"What is {topic}?\"\n",
        ")"
      ],
      "metadata": {
        "id": "GQ0Mx_09_d7C"
      },
      "execution_count": 6,
      "outputs": []
    },
    {
      "cell_type": "code",
      "source": [
        "parser=StrOutputParser()\n",
        "# # Create a chain with the prompt and parser\n",
        "chainSec = prompt | groqAPI_model | parser\n",
        "# # Invoke the chain with your input\n",
        "# chainSec.invoke({\"topic\": \"cybersecurity\"})"
      ],
      "metadata": {
        "collapsed": true,
        "id": "Do_-TcKRApRK"
      },
      "execution_count": 10,
      "outputs": []
    },
    {
      "cell_type": "code",
      "source": [
        "# create an interactive prompt for question and answering using the above model\n",
        "while True:\n",
        "  topic = input(\"Enter a topic or question you want ask? (or type 'quit' to exit): \")\n",
        "  if topic.lower() == 'quit':\n",
        "    break\n",
        "  response = chainSec.invoke({\"topic\": topic})\n",
        "  print(response)\n"
      ],
      "metadata": {
        "colab": {
          "base_uri": "https://localhost:8080/"
        },
        "id": "LpdlqlFijtYj",
        "outputId": "1ccacee6-e1b6-4bd6-d2fb-faa03a219fe6"
      },
      "execution_count": 13,
      "outputs": [
        {
          "name": "stdout",
          "output_type": "stream",
          "text": [
            "Enter a topic or question you want ask? (or type 'quit' to exit): who is lewis hamilton?\n",
            "Lewis Hamilton is a British Formula One racing driver who is widely regarded as one of the greatest drivers in the history of the sport. Here's a brief overview of his impressive career:\n",
            "\n",
            "**Early Life and Career:**\n",
            "Lewis Hamilton was born on January 7, 1985, in Stevenage, England. He began karting at the age of eight and quickly rose through the junior ranks, winning several national and international championships.\n",
            "\n",
            "**Formula One Career:**\n",
            "Hamilton made his Formula One debut in 2007 with McLaren, finishing second in the championship in his rookie season. In 2008, he won his first World Championship with McLaren, becoming the youngest driver to achieve this feat at the time.\n",
            "\n",
            "In 2013, Hamilton joined Mercedes-AMG Petronas Motorsport, where he has won six consecutive World Championships (2014, 2015, 2017, 2018, 2019, and 2020). This streak of success has cemented his status as one of the most successful Formula One drivers in history.\n",
            "\n",
            "**Achievements and Records:**\n",
            "\n",
            "* 7-time Formula One World Champion (2008, 2014, 2015, 2017, 2018, 2019, and 2020)\n",
            "* Holds the record for most pole positions (103) and most wins (103) in Formula One history\n",
            "* Has won more Grands Prix than any other British driver in history\n",
            "* Has been named the Laureus World Sportsman of the Year four times (2018, 2019, 2020, and 2021)\n",
            "\n",
            "**Off-Track Ventures:**\n",
            "Hamilton is also known for his interests outside of racing, including:\n",
            "\n",
            "* Music: He has released several hip-hop and R&B tracks and has collaborated with artists like Christina Aguilera and Jessie Ware.\n",
            "* Fashion: He has walked the runway for fashion brands like Tommy Hilfiger and has been a style icon in the Formula One paddock.\n",
            "* Philanthropy: He is involved with several charitable organizations, including the Lewis Hamilton Foundation, which supports young people from underprivileged backgrounds.\n",
            "\n",
            "**Controversies and Activism:**\n",
            "Hamilton has been open about his opinions on social and environmental issues, including:\n",
            "\n",
            "* Racism: He has been an outspoken advocate for greater diversity and inclusion in motorsport, and has spoken about his own experiences with racism throughout his career.\n",
            "* Environmentalism: He has been a vocal critic of climate change and has pledged to reduce his carbon footprint, including switching to a plant-based diet and using eco-friendly transportation.\n",
            "\n",
            "Overall, Lewis Hamilton is a highly successful and influential figure in the world of Formula One, known for his incredible driving skills, his commitment to social and environmental causes, and his off-track ventures in music, fashion, and philanthropy.\n",
            "Enter a topic or question you want ask? (or type 'quit' to exit): quit\n"
          ]
        }
      ]
    },
    {
      "cell_type": "code",
      "source": [
        "#using different model\n",
        "groqAPI_model=ChatGroq(api_key=api_key, model_name='llama3-70b-8192')\n",
        "parser=StrOutputParser()\n",
        "chainSec = prompt | groqAPI_model | parser\n",
        "\n",
        "\n",
        "# create an interactive prompt for question and answering using the above model\n",
        "while True:\n",
        "  topic = input(\"Enter a topic (or type 'quit' to exit): \")\n",
        "  if topic.lower() == 'quit':\n",
        "    break\n",
        "  response = chainSec.invoke({\"topic\": topic})\n",
        "  print(response)\n"
      ],
      "metadata": {
        "colab": {
          "base_uri": "https://localhost:8080/"
        },
        "id": "mXM2dtbolj1F",
        "outputId": "7098f28a-933f-48f5-8f71-eb1cf6fe185e"
      },
      "execution_count": 14,
      "outputs": [
        {
          "name": "stdout",
          "output_type": "stream",
          "text": [
            "Enter a topic (or type 'quit' to exit): who is lewis hamilton?\n",
            "Lewis Hamilton is a British Formula One racing driver who has become one of the most successful and dominant drivers in the history of the sport.\n",
            "\n",
            "Here are some of his impressive achievements:\n",
            "\n",
            "**Seven-time Formula One World Champion**: Hamilton has won the Formula One World Championship in 2008, 2014, 2015, 2017, 2018, 2019, and 2020.\n",
            "\n",
            "**Most wins in Formula One history**: Hamilton has won 103 Grands Prix, surpassing Michael Schumacher's record of 91 wins.\n",
            "\n",
            "**Pole position master**: Hamilton has taken 103 pole positions, the most in Formula One history.\n",
            "\n",
            "**Mercedes-AMG Petronas driver**: Hamilton has been driving for the Mercedes-AMG Petronas team since 2013, winning multiple championships with the team.\n",
            "\n",
            "**Racing style**: Hamilton is known for his aggressive and attacking driving style, which has earned him a large following and admiration from fans worldwide.\n",
            "\n",
            "**Off-track persona**: Hamilton is also known for his fashion sense, music interests, and commitment to social justice causes, such as diversity and inclusion in motorsport.\n",
            "\n",
            "**Early life and career**: Born on January 7, 1985, in Stevenage, Hertfordshire, England, Hamilton began karting at the age of eight and quickly rose through the junior ranks. He joined the McLaren team as a junior driver in 2005 and made his Formula One debut in 2007.\n",
            "\n",
            "Hamilton's success on and off the track has made him a global sports icon, and his name is often mentioned alongside other greats like Michael Schumacher, Ayrton Senna, and Juan Manuel Fangio.\n",
            "\n",
            "Do you have a favorite Lewis Hamilton moment or memory?\n",
            "Enter a topic (or type 'quit' to exit): quit\n"
          ]
        }
      ]
    },
    {
      "cell_type": "code",
      "source": [
        "#using different model\n",
        "groqAPI_model=ChatGroq(api_key=api_key, model_name='gemma2-9b-it')\n",
        "parser=StrOutputParser()\n",
        "chainSec = prompt | groqAPI_model | parser\n",
        "\n",
        "\n",
        "# create an interactive prompt for question and answering using the above model\n",
        "while True:\n",
        "  topic = input(\"Enter a topic (or type 'quit' to exit): \")\n",
        "  if topic.lower() == 'quit':\n",
        "    break\n",
        "  response = chainSec.invoke({\"topic\": topic})\n",
        "  print(response)\n"
      ],
      "metadata": {
        "colab": {
          "base_uri": "https://localhost:8080/"
        },
        "id": "_mPEoBZJoWNc",
        "outputId": "facef5ad-5802-4e5d-fdef-d510ea137ba0"
      },
      "execution_count": 15,
      "outputs": [
        {
          "name": "stdout",
          "output_type": "stream",
          "text": [
            "Enter a topic (or type 'quit' to exit): who is lewis hamilton ?\n",
            "Lewis Hamilton is a British racing driver currently competing in Formula One for Mercedes. \n",
            "\n",
            "Here are some key facts about him:\n",
            "\n",
            "* **Seven-time Formula One World Champion:**  He holds the record for most F1 World Championships, tied with Michael Schumacher.\n",
            "* **Most Race Wins in F1 History:** Lewis Hamilton has won more races than any other driver in F1 history.\n",
            "* **Most Pole Positions in F1 History:** He also holds the record for most pole positions achieved in qualifying sessions.\n",
            "* **Record Holder for Most Podium Finishes:** He's achieved more podium finishes (191) than any other driver in F1 history.\n",
            "* **Highly Decorated:** Besides his world championships, Hamilton has won numerous other awards and accolades, including the BBC Sports Personality of the Year award.\n",
            "* **Activist and Role Model:**  Hamilton is a vocal advocate for social justice issues, particularly racial equality and diversity in motorsport. He uses his platform to raise awareness and promote change.\n",
            "* **Global Icon:** With a massive following worldwide, he is considered one of the most famous and influential athletes in the world.\n",
            "\n",
            "Lewis Hamilton's talent, dedication, and activism have made him a legend in the world of motorsport and a role model for millions. \n",
            "\n",
            "Enter a topic (or type 'quit' to exit): quit\n"
          ]
        }
      ]
    },
    {
      "cell_type": "code",
      "source": [
        "# prompt_template = (\n",
        "#     \"\"\"\n",
        "#    You are an formula 1 Question answering expert  that provides the details only about formula 1 any irrelevant question provide an answer stating that im anot aware about the question that you have provided\n",
        "# topic : {topic}\n",
        "# \"\"\"\n",
        "# )\n",
        "\n",
        "# prompt = PromptTemplate.from_template(template=template)\n",
        "# chainSec = prompt | groqAPI_model | parser\n",
        "\n",
        "\n",
        "\n",
        "# question=\"\"\"what are technologies involved in Formula 1\"\"\"\n",
        "# chainSec.invoke({\"topic\": question})\n",
        "# print(chainSec.invoke({\"topic\": question}))"
      ],
      "metadata": {
        "id": "TmUdUdliAZyN"
      },
      "execution_count": null,
      "outputs": []
    },
    {
      "cell_type": "markdown",
      "source": [
        "Here we have used langchain by importing Groq chat for creating interactive question answer modeling by entering any of your favourite topic and the required answer is provided\n"
      ],
      "metadata": {
        "id": "RaJ8M7SftkHK"
      }
    },
    {
      "cell_type": "code",
      "source": [],
      "metadata": {
        "id": "7jZETDw9CCDq"
      },
      "execution_count": null,
      "outputs": []
    },
    {
      "cell_type": "code",
      "source": [],
      "metadata": {
        "id": "mWw69g6XBvxS"
      },
      "execution_count": null,
      "outputs": []
    }
  ]
}